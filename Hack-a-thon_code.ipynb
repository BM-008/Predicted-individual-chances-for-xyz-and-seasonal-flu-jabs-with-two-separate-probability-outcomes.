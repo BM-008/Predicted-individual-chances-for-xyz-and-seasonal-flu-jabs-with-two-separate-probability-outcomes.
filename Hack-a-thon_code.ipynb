{
 "cells": [
  {
   "cell_type": "code",
   "execution_count": 1,
   "id": "c64dd787-44e6-47ff-ac66-9d41dbb6de05",
   "metadata": {},
   "outputs": [],
   "source": [
    "import pandas as pd\n",
    "import numpy as np\n",
    "from sklearn.ensemble import RandomForestClassifier"
   ]
  },
  {
   "cell_type": "code",
   "execution_count": 2,
   "id": "0c37ea7b-e64e-4f6a-9f69-35ed7297081c",
   "metadata": {},
   "outputs": [],
   "source": [
    "df_train = pd.read_csv('training_set_features.csv')\n",
    "df_test = pd.read_csv('test_set_features.csv')\n",
    "y_train = pd.read_csv('training_set_labels.csv')"
   ]
  },
  {
   "cell_type": "code",
   "execution_count": 3,
   "id": "888e1538-d9fa-4768-9bda-58ba50c2e8cb",
   "metadata": {},
   "outputs": [
    {
     "data": {
      "text/html": [
       "<div>\n",
       "<style scoped>\n",
       "    .dataframe tbody tr th:only-of-type {\n",
       "        vertical-align: middle;\n",
       "    }\n",
       "\n",
       "    .dataframe tbody tr th {\n",
       "        vertical-align: top;\n",
       "    }\n",
       "\n",
       "    .dataframe thead th {\n",
       "        text-align: right;\n",
       "    }\n",
       "</style>\n",
       "<table border=\"1\" class=\"dataframe\">\n",
       "  <thead>\n",
       "    <tr style=\"text-align: right;\">\n",
       "      <th></th>\n",
       "      <th>respondent_id</th>\n",
       "      <th>xyz_concern</th>\n",
       "      <th>xyz_knowledge</th>\n",
       "      <th>behavioral_antiviral_meds</th>\n",
       "      <th>behavioral_avoidance</th>\n",
       "      <th>behavioral_face_mask</th>\n",
       "      <th>behavioral_wash_hands</th>\n",
       "      <th>behavioral_large_gatherings</th>\n",
       "      <th>behavioral_outside_home</th>\n",
       "      <th>behavioral_touch_face</th>\n",
       "      <th>...</th>\n",
       "      <th>income_poverty</th>\n",
       "      <th>marital_status</th>\n",
       "      <th>rent_or_own</th>\n",
       "      <th>employment_status</th>\n",
       "      <th>hhs_geo_region</th>\n",
       "      <th>census_msa</th>\n",
       "      <th>household_adults</th>\n",
       "      <th>household_children</th>\n",
       "      <th>employment_industry</th>\n",
       "      <th>employment_occupation</th>\n",
       "    </tr>\n",
       "  </thead>\n",
       "  <tbody>\n",
       "    <tr>\n",
       "      <th>0</th>\n",
       "      <td>0</td>\n",
       "      <td>1.0</td>\n",
       "      <td>0.0</td>\n",
       "      <td>0.0</td>\n",
       "      <td>0.0</td>\n",
       "      <td>0.0</td>\n",
       "      <td>0.0</td>\n",
       "      <td>0.0</td>\n",
       "      <td>1.0</td>\n",
       "      <td>1.0</td>\n",
       "      <td>...</td>\n",
       "      <td>Below Poverty</td>\n",
       "      <td>Not Married</td>\n",
       "      <td>Own</td>\n",
       "      <td>Not in Labor Force</td>\n",
       "      <td>oxchjgsf</td>\n",
       "      <td>Non-MSA</td>\n",
       "      <td>0.0</td>\n",
       "      <td>0.0</td>\n",
       "      <td>NaN</td>\n",
       "      <td>NaN</td>\n",
       "    </tr>\n",
       "    <tr>\n",
       "      <th>1</th>\n",
       "      <td>1</td>\n",
       "      <td>3.0</td>\n",
       "      <td>2.0</td>\n",
       "      <td>0.0</td>\n",
       "      <td>1.0</td>\n",
       "      <td>0.0</td>\n",
       "      <td>1.0</td>\n",
       "      <td>0.0</td>\n",
       "      <td>1.0</td>\n",
       "      <td>1.0</td>\n",
       "      <td>...</td>\n",
       "      <td>Below Poverty</td>\n",
       "      <td>Not Married</td>\n",
       "      <td>Rent</td>\n",
       "      <td>Employed</td>\n",
       "      <td>bhuqouqj</td>\n",
       "      <td>MSA, Not Principle  City</td>\n",
       "      <td>0.0</td>\n",
       "      <td>0.0</td>\n",
       "      <td>pxcmvdjn</td>\n",
       "      <td>xgwztkwe</td>\n",
       "    </tr>\n",
       "    <tr>\n",
       "      <th>2</th>\n",
       "      <td>2</td>\n",
       "      <td>1.0</td>\n",
       "      <td>1.0</td>\n",
       "      <td>0.0</td>\n",
       "      <td>1.0</td>\n",
       "      <td>0.0</td>\n",
       "      <td>0.0</td>\n",
       "      <td>0.0</td>\n",
       "      <td>0.0</td>\n",
       "      <td>0.0</td>\n",
       "      <td>...</td>\n",
       "      <td>&lt;= $75,000, Above Poverty</td>\n",
       "      <td>Not Married</td>\n",
       "      <td>Own</td>\n",
       "      <td>Employed</td>\n",
       "      <td>qufhixun</td>\n",
       "      <td>MSA, Not Principle  City</td>\n",
       "      <td>2.0</td>\n",
       "      <td>0.0</td>\n",
       "      <td>rucpziij</td>\n",
       "      <td>xtkaffoo</td>\n",
       "    </tr>\n",
       "  </tbody>\n",
       "</table>\n",
       "<p>3 rows × 36 columns</p>\n",
       "</div>"
      ],
      "text/plain": [
       "   respondent_id  xyz_concern  xyz_knowledge  behavioral_antiviral_meds  \\\n",
       "0              0          1.0            0.0                        0.0   \n",
       "1              1          3.0            2.0                        0.0   \n",
       "2              2          1.0            1.0                        0.0   \n",
       "\n",
       "   behavioral_avoidance  behavioral_face_mask  behavioral_wash_hands  \\\n",
       "0                   0.0                   0.0                    0.0   \n",
       "1                   1.0                   0.0                    1.0   \n",
       "2                   1.0                   0.0                    0.0   \n",
       "\n",
       "   behavioral_large_gatherings  behavioral_outside_home  \\\n",
       "0                          0.0                      1.0   \n",
       "1                          0.0                      1.0   \n",
       "2                          0.0                      0.0   \n",
       "\n",
       "   behavioral_touch_face  ...             income_poverty  marital_status  \\\n",
       "0                    1.0  ...              Below Poverty     Not Married   \n",
       "1                    1.0  ...              Below Poverty     Not Married   \n",
       "2                    0.0  ...  <= $75,000, Above Poverty     Not Married   \n",
       "\n",
       "   rent_or_own   employment_status  hhs_geo_region                census_msa  \\\n",
       "0          Own  Not in Labor Force        oxchjgsf                   Non-MSA   \n",
       "1         Rent            Employed        bhuqouqj  MSA, Not Principle  City   \n",
       "2          Own            Employed        qufhixun  MSA, Not Principle  City   \n",
       "\n",
       "   household_adults  household_children  employment_industry  \\\n",
       "0               0.0                 0.0                  NaN   \n",
       "1               0.0                 0.0             pxcmvdjn   \n",
       "2               2.0                 0.0             rucpziij   \n",
       "\n",
       "   employment_occupation  \n",
       "0                    NaN  \n",
       "1               xgwztkwe  \n",
       "2               xtkaffoo  \n",
       "\n",
       "[3 rows x 36 columns]"
      ]
     },
     "execution_count": 3,
     "metadata": {},
     "output_type": "execute_result"
    }
   ],
   "source": [
    "df_train.head(3)"
   ]
  },
  {
   "cell_type": "code",
   "execution_count": 4,
   "id": "006f2c77-ace4-47ab-a609-3bf2491f1b7c",
   "metadata": {},
   "outputs": [
    {
     "data": {
      "text/plain": [
       "respondent_id                      0\n",
       "xyz_concern                       92\n",
       "xyz_knowledge                    116\n",
       "behavioral_antiviral_meds         71\n",
       "behavioral_avoidance             208\n",
       "behavioral_face_mask              19\n",
       "behavioral_wash_hands             42\n",
       "behavioral_large_gatherings       87\n",
       "behavioral_outside_home           82\n",
       "behavioral_touch_face            128\n",
       "doctor_recc_xyz                 2160\n",
       "doctor_recc_seasonal            2160\n",
       "chronic_med_condition            971\n",
       "child_under_6_months             820\n",
       "health_worker                    804\n",
       "health_insurance               12274\n",
       "opinion_xyz_vacc_effective       391\n",
       "opinion_xyz_risk                 388\n",
       "opinion_xyz_sick_from_vacc       395\n",
       "opinion_seas_vacc_effective      462\n",
       "opinion_seas_risk                514\n",
       "opinion_seas_sick_from_vacc      537\n",
       "age_group                          0\n",
       "education                       1407\n",
       "race                               0\n",
       "sex                                0\n",
       "income_poverty                  4423\n",
       "marital_status                  1408\n",
       "rent_or_own                     2042\n",
       "employment_status               1463\n",
       "hhs_geo_region                     0\n",
       "census_msa                         0\n",
       "household_adults                 249\n",
       "household_children               249\n",
       "employment_industry            13330\n",
       "employment_occupation          13470\n",
       "dtype: int64"
      ]
     },
     "execution_count": 4,
     "metadata": {},
     "output_type": "execute_result"
    }
   ],
   "source": [
    "df_train.isnull().sum()"
   ]
  },
  {
   "cell_type": "code",
   "execution_count": 5,
   "id": "228f3c31-156e-4458-a7c6-b31c696270d4",
   "metadata": {},
   "outputs": [
    {
     "data": {
      "text/plain": [
       "respondent_id                    int64\n",
       "xyz_concern                    float64\n",
       "xyz_knowledge                  float64\n",
       "behavioral_antiviral_meds      float64\n",
       "behavioral_avoidance           float64\n",
       "behavioral_face_mask           float64\n",
       "behavioral_wash_hands          float64\n",
       "behavioral_large_gatherings    float64\n",
       "behavioral_outside_home        float64\n",
       "behavioral_touch_face          float64\n",
       "doctor_recc_xyz                float64\n",
       "doctor_recc_seasonal           float64\n",
       "chronic_med_condition          float64\n",
       "child_under_6_months           float64\n",
       "health_worker                  float64\n",
       "health_insurance               float64\n",
       "opinion_xyz_vacc_effective     float64\n",
       "opinion_xyz_risk               float64\n",
       "opinion_xyz_sick_from_vacc     float64\n",
       "opinion_seas_vacc_effective    float64\n",
       "opinion_seas_risk              float64\n",
       "opinion_seas_sick_from_vacc    float64\n",
       "age_group                       object\n",
       "education                       object\n",
       "race                            object\n",
       "sex                             object\n",
       "income_poverty                  object\n",
       "marital_status                  object\n",
       "rent_or_own                     object\n",
       "employment_status               object\n",
       "hhs_geo_region                  object\n",
       "census_msa                      object\n",
       "household_adults               float64\n",
       "household_children             float64\n",
       "employment_industry             object\n",
       "employment_occupation           object\n",
       "dtype: object"
      ]
     },
     "execution_count": 5,
     "metadata": {},
     "output_type": "execute_result"
    }
   ],
   "source": [
    "df_train.dtypes"
   ]
  },
  {
   "cell_type": "code",
   "execution_count": 6,
   "id": "5bfb7874-a89b-4987-a9dd-5b3e7cd1e616",
   "metadata": {},
   "outputs": [
    {
     "data": {
      "text/plain": [
       "respondent_id                    int64\n",
       "xyz_concern                    float64\n",
       "xyz_knowledge                  float64\n",
       "behavioral_antiviral_meds      float64\n",
       "behavioral_avoidance           float64\n",
       "behavioral_face_mask           float64\n",
       "behavioral_wash_hands          float64\n",
       "behavioral_large_gatherings    float64\n",
       "behavioral_outside_home        float64\n",
       "behavioral_touch_face          float64\n",
       "doctor_recc_xyz                float64\n",
       "doctor_recc_seasonal           float64\n",
       "chronic_med_condition          float64\n",
       "child_under_6_months           float64\n",
       "health_worker                  float64\n",
       "health_insurance               float64\n",
       "opinion_xyz_vacc_effective     float64\n",
       "opinion_xyz_risk               float64\n",
       "opinion_xyz_sick_from_vacc     float64\n",
       "opinion_seas_vacc_effective    float64\n",
       "opinion_seas_risk              float64\n",
       "opinion_seas_sick_from_vacc    float64\n",
       "age_group                       object\n",
       "education                       object\n",
       "race                            object\n",
       "sex                             object\n",
       "income_poverty                  object\n",
       "marital_status                  object\n",
       "rent_or_own                     object\n",
       "employment_status               object\n",
       "hhs_geo_region                  object\n",
       "census_msa                      object\n",
       "household_adults               float64\n",
       "household_children             float64\n",
       "employment_industry             object\n",
       "employment_occupation           object\n",
       "dtype: object"
      ]
     },
     "execution_count": 6,
     "metadata": {},
     "output_type": "execute_result"
    }
   ],
   "source": [
    "df_test.dtypes"
   ]
  },
  {
   "cell_type": "code",
   "execution_count": 7,
   "id": "2920b3f1-3993-4219-8b8f-61127f1f641b",
   "metadata": {},
   "outputs": [],
   "source": [
    "fill_with_unavailable = [\"education\",\"income_poverty\",\"employment_industry\",\"employment_occupation\",\"employment_status\",\"marital_status\",\"rent_or_own\"]\n",
    "                \n",
    "\n",
    "for col in fill_with_unavailable:\n",
    "    df_train[col] = df_train[col].fillna(value=\"Unavailable\")\n",
    "    df_test[col] = df_test[col].fillna(value=\"Unavailable\")"
   ]
  },
  {
   "cell_type": "code",
   "execution_count": 8,
   "id": "3e6f2b1e-a102-48e5-90ad-03e3021061de",
   "metadata": {},
   "outputs": [],
   "source": [
    "ages = {\"18 - 34 Years\" :0 ,\n",
    "                     \"35 - 44 Years\" : 1,\n",
    "                     \"45 - 54 Years\" : 2,\n",
    "                     \"55 - 64 Years\": 3,\n",
    "                     \"65+ Years\" : 4}\n",
    "    \n",
    "education = {\"< 12 Years\" :1 ,\n",
    "                     \"12 Years\" :2,\n",
    "                     \"Some College\" : 3,\n",
    "                     \"College Graduate\": 4,\n",
    "                     \"Unknown\" : 0}\n",
    "\n",
    "income_poverty =  {\"Unknown\" :0,\n",
    "                    \"Below Poverty\" :1 ,\n",
    "                     \"<= $75,000\" :2,\n",
    "                     \"Above Poverty\" : 3,\n",
    "                     \"$75,000\": 4 }\n",
    "\n",
    "\n",
    "df_train['age_group'] = df_train.age_group.map(ages)\n",
    "df_test['age_group'] = df_test.age_group.map(ages)\n",
    "\n",
    "df_train['education'] = df_train.education.map(education)\n",
    "df_test['education'] = df_test.education.map(education)\n",
    "\n",
    "df_train['income_poverty'] = df_train.income_poverty.map(income_poverty)\n",
    "df_test['income_poverty'] = df_test.income_poverty.map(income_poverty)"
   ]
  },
  {
   "cell_type": "code",
   "execution_count": 9,
   "id": "1c86f713-9d9c-43e6-a809-190396554efc",
   "metadata": {},
   "outputs": [],
   "source": [
    "def fill_na(value):\n",
    "    if value.dtype is np.dtype(float):\n",
    "        return value.fillna(value.mean())\n",
    "    elif value.dtype is np.dtype(object):\n",
    "        return value.fillna(value.mode())\n",
    "    else:\n",
    "        return value"
   ]
  },
  {
   "cell_type": "code",
   "execution_count": 10,
   "id": "5d79ab0c-36eb-4a55-89f9-ba568793cd4b",
   "metadata": {},
   "outputs": [],
   "source": [
    "df_train = df_train.apply(fill_na)\n",
    "df_test = df_test.apply(fill_na)"
   ]
  },
  {
   "cell_type": "code",
   "execution_count": 11,
   "id": "f45f8596-e87e-4851-8563-370bb4d70ab1",
   "metadata": {},
   "outputs": [
    {
     "data": {
      "text/plain": [
       "respondent_id                  0\n",
       "xyz_concern                    0\n",
       "xyz_knowledge                  0\n",
       "behavioral_antiviral_meds      0\n",
       "behavioral_avoidance           0\n",
       "behavioral_face_mask           0\n",
       "behavioral_wash_hands          0\n",
       "behavioral_large_gatherings    0\n",
       "behavioral_outside_home        0\n",
       "behavioral_touch_face          0\n",
       "doctor_recc_xyz                0\n",
       "doctor_recc_seasonal           0\n",
       "chronic_med_condition          0\n",
       "child_under_6_months           0\n",
       "health_worker                  0\n",
       "health_insurance               0\n",
       "opinion_xyz_vacc_effective     0\n",
       "opinion_xyz_risk               0\n",
       "opinion_xyz_sick_from_vacc     0\n",
       "opinion_seas_vacc_effective    0\n",
       "opinion_seas_risk              0\n",
       "opinion_seas_sick_from_vacc    0\n",
       "age_group                      0\n",
       "education                      0\n",
       "race                           0\n",
       "sex                            0\n",
       "income_poverty                 0\n",
       "marital_status                 0\n",
       "rent_or_own                    0\n",
       "employment_status              0\n",
       "hhs_geo_region                 0\n",
       "census_msa                     0\n",
       "household_adults               0\n",
       "household_children             0\n",
       "employment_industry            0\n",
       "employment_occupation          0\n",
       "dtype: int64"
      ]
     },
     "execution_count": 11,
     "metadata": {},
     "output_type": "execute_result"
    }
   ],
   "source": [
    "df_train.isnull().sum()"
   ]
  },
  {
   "cell_type": "code",
   "execution_count": 12,
   "id": "496d9182-b0bf-4551-8a5a-0f69f3acd5a8",
   "metadata": {},
   "outputs": [],
   "source": [
    "from category_encoders import CountEncoder"
   ]
  },
  {
   "cell_type": "code",
   "execution_count": 13,
   "id": "27935408-e005-4a9f-8ffd-a582158bde49",
   "metadata": {},
   "outputs": [
    {
     "data": {
      "text/html": [
       "<div>\n",
       "<style scoped>\n",
       "    .dataframe tbody tr th:only-of-type {\n",
       "        vertical-align: middle;\n",
       "    }\n",
       "\n",
       "    .dataframe tbody tr th {\n",
       "        vertical-align: top;\n",
       "    }\n",
       "\n",
       "    .dataframe thead th {\n",
       "        text-align: right;\n",
       "    }\n",
       "</style>\n",
       "<table border=\"1\" class=\"dataframe\">\n",
       "  <thead>\n",
       "    <tr style=\"text-align: right;\">\n",
       "      <th></th>\n",
       "      <th>race</th>\n",
       "      <th>sex</th>\n",
       "      <th>marital_status</th>\n",
       "      <th>rent_or_own</th>\n",
       "      <th>employment_status</th>\n",
       "      <th>hhs_geo_region</th>\n",
       "      <th>census_msa</th>\n",
       "      <th>employment_industry</th>\n",
       "      <th>employment_occupation</th>\n",
       "    </tr>\n",
       "  </thead>\n",
       "  <tbody>\n",
       "    <tr>\n",
       "      <th>0</th>\n",
       "      <td>White</td>\n",
       "      <td>Female</td>\n",
       "      <td>Not Married</td>\n",
       "      <td>Own</td>\n",
       "      <td>Not in Labor Force</td>\n",
       "      <td>oxchjgsf</td>\n",
       "      <td>Non-MSA</td>\n",
       "      <td>Unavailable</td>\n",
       "      <td>Unavailable</td>\n",
       "    </tr>\n",
       "    <tr>\n",
       "      <th>1</th>\n",
       "      <td>White</td>\n",
       "      <td>Male</td>\n",
       "      <td>Not Married</td>\n",
       "      <td>Rent</td>\n",
       "      <td>Employed</td>\n",
       "      <td>bhuqouqj</td>\n",
       "      <td>MSA, Not Principle  City</td>\n",
       "      <td>pxcmvdjn</td>\n",
       "      <td>xgwztkwe</td>\n",
       "    </tr>\n",
       "    <tr>\n",
       "      <th>2</th>\n",
       "      <td>White</td>\n",
       "      <td>Male</td>\n",
       "      <td>Not Married</td>\n",
       "      <td>Own</td>\n",
       "      <td>Employed</td>\n",
       "      <td>qufhixun</td>\n",
       "      <td>MSA, Not Principle  City</td>\n",
       "      <td>rucpziij</td>\n",
       "      <td>xtkaffoo</td>\n",
       "    </tr>\n",
       "    <tr>\n",
       "      <th>3</th>\n",
       "      <td>White</td>\n",
       "      <td>Female</td>\n",
       "      <td>Not Married</td>\n",
       "      <td>Rent</td>\n",
       "      <td>Not in Labor Force</td>\n",
       "      <td>lrircsnp</td>\n",
       "      <td>MSA, Principle City</td>\n",
       "      <td>Unavailable</td>\n",
       "      <td>Unavailable</td>\n",
       "    </tr>\n",
       "    <tr>\n",
       "      <th>4</th>\n",
       "      <td>White</td>\n",
       "      <td>Female</td>\n",
       "      <td>Married</td>\n",
       "      <td>Own</td>\n",
       "      <td>Employed</td>\n",
       "      <td>qufhixun</td>\n",
       "      <td>MSA, Not Principle  City</td>\n",
       "      <td>wxleyezf</td>\n",
       "      <td>emcorrxb</td>\n",
       "    </tr>\n",
       "    <tr>\n",
       "      <th>...</th>\n",
       "      <td>...</td>\n",
       "      <td>...</td>\n",
       "      <td>...</td>\n",
       "      <td>...</td>\n",
       "      <td>...</td>\n",
       "      <td>...</td>\n",
       "      <td>...</td>\n",
       "      <td>...</td>\n",
       "      <td>...</td>\n",
       "    </tr>\n",
       "    <tr>\n",
       "      <th>26702</th>\n",
       "      <td>White</td>\n",
       "      <td>Female</td>\n",
       "      <td>Not Married</td>\n",
       "      <td>Own</td>\n",
       "      <td>Not in Labor Force</td>\n",
       "      <td>qufhixun</td>\n",
       "      <td>Non-MSA</td>\n",
       "      <td>Unavailable</td>\n",
       "      <td>Unavailable</td>\n",
       "    </tr>\n",
       "    <tr>\n",
       "      <th>26703</th>\n",
       "      <td>White</td>\n",
       "      <td>Male</td>\n",
       "      <td>Not Married</td>\n",
       "      <td>Rent</td>\n",
       "      <td>Employed</td>\n",
       "      <td>lzgpxyit</td>\n",
       "      <td>MSA, Principle City</td>\n",
       "      <td>fcxhlnwr</td>\n",
       "      <td>cmhcxjea</td>\n",
       "    </tr>\n",
       "    <tr>\n",
       "      <th>26704</th>\n",
       "      <td>White</td>\n",
       "      <td>Female</td>\n",
       "      <td>Not Married</td>\n",
       "      <td>Own</td>\n",
       "      <td>Unavailable</td>\n",
       "      <td>lzgpxyit</td>\n",
       "      <td>MSA, Not Principle  City</td>\n",
       "      <td>Unavailable</td>\n",
       "      <td>Unavailable</td>\n",
       "    </tr>\n",
       "    <tr>\n",
       "      <th>26705</th>\n",
       "      <td>Hispanic</td>\n",
       "      <td>Female</td>\n",
       "      <td>Married</td>\n",
       "      <td>Rent</td>\n",
       "      <td>Employed</td>\n",
       "      <td>lrircsnp</td>\n",
       "      <td>Non-MSA</td>\n",
       "      <td>fcxhlnwr</td>\n",
       "      <td>haliazsg</td>\n",
       "    </tr>\n",
       "    <tr>\n",
       "      <th>26706</th>\n",
       "      <td>White</td>\n",
       "      <td>Male</td>\n",
       "      <td>Married</td>\n",
       "      <td>Own</td>\n",
       "      <td>Not in Labor Force</td>\n",
       "      <td>mlyzmhmf</td>\n",
       "      <td>MSA, Principle City</td>\n",
       "      <td>Unavailable</td>\n",
       "      <td>Unavailable</td>\n",
       "    </tr>\n",
       "  </tbody>\n",
       "</table>\n",
       "<p>26707 rows × 9 columns</p>\n",
       "</div>"
      ],
      "text/plain": [
       "           race     sex marital_status rent_or_own   employment_status  \\\n",
       "0         White  Female    Not Married         Own  Not in Labor Force   \n",
       "1         White    Male    Not Married        Rent            Employed   \n",
       "2         White    Male    Not Married         Own            Employed   \n",
       "3         White  Female    Not Married        Rent  Not in Labor Force   \n",
       "4         White  Female        Married         Own            Employed   \n",
       "...         ...     ...            ...         ...                 ...   \n",
       "26702     White  Female    Not Married         Own  Not in Labor Force   \n",
       "26703     White    Male    Not Married        Rent            Employed   \n",
       "26704     White  Female    Not Married         Own         Unavailable   \n",
       "26705  Hispanic  Female        Married        Rent            Employed   \n",
       "26706     White    Male        Married         Own  Not in Labor Force   \n",
       "\n",
       "      hhs_geo_region                census_msa employment_industry  \\\n",
       "0           oxchjgsf                   Non-MSA         Unavailable   \n",
       "1           bhuqouqj  MSA, Not Principle  City            pxcmvdjn   \n",
       "2           qufhixun  MSA, Not Principle  City            rucpziij   \n",
       "3           lrircsnp       MSA, Principle City         Unavailable   \n",
       "4           qufhixun  MSA, Not Principle  City            wxleyezf   \n",
       "...              ...                       ...                 ...   \n",
       "26702       qufhixun                   Non-MSA         Unavailable   \n",
       "26703       lzgpxyit       MSA, Principle City            fcxhlnwr   \n",
       "26704       lzgpxyit  MSA, Not Principle  City         Unavailable   \n",
       "26705       lrircsnp                   Non-MSA            fcxhlnwr   \n",
       "26706       mlyzmhmf       MSA, Principle City         Unavailable   \n",
       "\n",
       "      employment_occupation  \n",
       "0               Unavailable  \n",
       "1                  xgwztkwe  \n",
       "2                  xtkaffoo  \n",
       "3               Unavailable  \n",
       "4                  emcorrxb  \n",
       "...                     ...  \n",
       "26702           Unavailable  \n",
       "26703              cmhcxjea  \n",
       "26704           Unavailable  \n",
       "26705              haliazsg  \n",
       "26706           Unavailable  \n",
       "\n",
       "[26707 rows x 9 columns]"
      ]
     },
     "execution_count": 13,
     "metadata": {},
     "output_type": "execute_result"
    }
   ],
   "source": [
    "df_train.select_dtypes('object')"
   ]
  },
  {
   "cell_type": "code",
   "execution_count": 14,
   "id": "b9fc2f36-b55b-484e-9c16-ea4cda81bdd1",
   "metadata": {},
   "outputs": [],
   "source": [
    "categorical_cols = df_train.select_dtypes('object').columns"
   ]
  },
  {
   "cell_type": "code",
   "execution_count": 15,
   "id": "1667ae5e-f905-42b8-950b-a2fe0b59f66c",
   "metadata": {},
   "outputs": [],
   "source": [
    "from sklearn.ensemble import RandomForestClassifier"
   ]
  },
  {
   "cell_type": "code",
   "execution_count": 16,
   "id": "6fb3f238-df99-450a-add2-6a1d0744e24c",
   "metadata": {},
   "outputs": [],
   "source": [
    "X, y = df_train.drop(columns='respondent_id'), y_train.drop(columns='respondent_id')\n",
    "X_test = df_test.drop(columns='respondent_id')\n",
    "y1, y2 = y['xyz_vaccine'], y['seasonal_vaccine']"
   ]
  },
  {
   "cell_type": "code",
   "execution_count": 17,
   "id": "16ed7a22-0eab-47ed-8205-ccd7434df5ec",
   "metadata": {},
   "outputs": [],
   "source": [
    "from sklearn.pipeline import Pipeline"
   ]
  },
  {
   "cell_type": "code",
   "execution_count": 18,
   "id": "94a5a0cf-4985-4a25-85f7-7fc072286f9b",
   "metadata": {},
   "outputs": [
    {
     "data": {
      "text/html": [
       "<style>#sk-container-id-1 {color: black;background-color: white;}#sk-container-id-1 pre{padding: 0;}#sk-container-id-1 div.sk-toggleable {background-color: white;}#sk-container-id-1 label.sk-toggleable__label {cursor: pointer;display: block;width: 100%;margin-bottom: 0;padding: 0.3em;box-sizing: border-box;text-align: center;}#sk-container-id-1 label.sk-toggleable__label-arrow:before {content: \"▸\";float: left;margin-right: 0.25em;color: #696969;}#sk-container-id-1 label.sk-toggleable__label-arrow:hover:before {color: black;}#sk-container-id-1 div.sk-estimator:hover label.sk-toggleable__label-arrow:before {color: black;}#sk-container-id-1 div.sk-toggleable__content {max-height: 0;max-width: 0;overflow: hidden;text-align: left;background-color: #f0f8ff;}#sk-container-id-1 div.sk-toggleable__content pre {margin: 0.2em;color: black;border-radius: 0.25em;background-color: #f0f8ff;}#sk-container-id-1 input.sk-toggleable__control:checked~div.sk-toggleable__content {max-height: 200px;max-width: 100%;overflow: auto;}#sk-container-id-1 input.sk-toggleable__control:checked~label.sk-toggleable__label-arrow:before {content: \"▾\";}#sk-container-id-1 div.sk-estimator input.sk-toggleable__control:checked~label.sk-toggleable__label {background-color: #d4ebff;}#sk-container-id-1 div.sk-label input.sk-toggleable__control:checked~label.sk-toggleable__label {background-color: #d4ebff;}#sk-container-id-1 input.sk-hidden--visually {border: 0;clip: rect(1px 1px 1px 1px);clip: rect(1px, 1px, 1px, 1px);height: 1px;margin: -1px;overflow: hidden;padding: 0;position: absolute;width: 1px;}#sk-container-id-1 div.sk-estimator {font-family: monospace;background-color: #f0f8ff;border: 1px dotted black;border-radius: 0.25em;box-sizing: border-box;margin-bottom: 0.5em;}#sk-container-id-1 div.sk-estimator:hover {background-color: #d4ebff;}#sk-container-id-1 div.sk-parallel-item::after {content: \"\";width: 100%;border-bottom: 1px solid gray;flex-grow: 1;}#sk-container-id-1 div.sk-label:hover label.sk-toggleable__label {background-color: #d4ebff;}#sk-container-id-1 div.sk-serial::before {content: \"\";position: absolute;border-left: 1px solid gray;box-sizing: border-box;top: 0;bottom: 0;left: 50%;z-index: 0;}#sk-container-id-1 div.sk-serial {display: flex;flex-direction: column;align-items: center;background-color: white;padding-right: 0.2em;padding-left: 0.2em;position: relative;}#sk-container-id-1 div.sk-item {position: relative;z-index: 1;}#sk-container-id-1 div.sk-parallel {display: flex;align-items: stretch;justify-content: center;background-color: white;position: relative;}#sk-container-id-1 div.sk-item::before, #sk-container-id-1 div.sk-parallel-item::before {content: \"\";position: absolute;border-left: 1px solid gray;box-sizing: border-box;top: 0;bottom: 0;left: 50%;z-index: -1;}#sk-container-id-1 div.sk-parallel-item {display: flex;flex-direction: column;z-index: 1;position: relative;background-color: white;}#sk-container-id-1 div.sk-parallel-item:first-child::after {align-self: flex-end;width: 50%;}#sk-container-id-1 div.sk-parallel-item:last-child::after {align-self: flex-start;width: 50%;}#sk-container-id-1 div.sk-parallel-item:only-child::after {width: 0;}#sk-container-id-1 div.sk-dashed-wrapped {border: 1px dashed gray;margin: 0 0.4em 0.5em 0.4em;box-sizing: border-box;padding-bottom: 0.4em;background-color: white;}#sk-container-id-1 div.sk-label label {font-family: monospace;font-weight: bold;display: inline-block;line-height: 1.2em;}#sk-container-id-1 div.sk-label-container {text-align: center;}#sk-container-id-1 div.sk-container {/* jupyter's `normalize.less` sets `[hidden] { display: none; }` but bootstrap.min.css set `[hidden] { display: none !important; }` so we also need the `!important` here to be able to override the default hidden behavior on the sphinx rendered scikit-learn.org. See: https://github.com/scikit-learn/scikit-learn/issues/21755 */display: inline-block !important;position: relative;}#sk-container-id-1 div.sk-text-repr-fallback {display: none;}</style><div id=\"sk-container-id-1\" class=\"sk-top-container\"><div class=\"sk-text-repr-fallback\"><pre>Pipeline(steps=[(&#x27;encoder&#x27;,\n",
       "                 CountEncoder(cols=[&#x27;race&#x27;, &#x27;sex&#x27;, &#x27;marital_status&#x27;,\n",
       "                                    &#x27;rent_or_own&#x27;, &#x27;employment_status&#x27;,\n",
       "                                    &#x27;hhs_geo_region&#x27;, &#x27;census_msa&#x27;,\n",
       "                                    &#x27;employment_industry&#x27;,\n",
       "                                    &#x27;employment_occupation&#x27;],\n",
       "                              combine_min_nan_groups=True)),\n",
       "                (&#x27;rfc&#x27;, RandomForestClassifier())])</pre><b>In a Jupyter environment, please rerun this cell to show the HTML representation or trust the notebook. <br />On GitHub, the HTML representation is unable to render, please try loading this page with nbviewer.org.</b></div><div class=\"sk-container\" hidden><div class=\"sk-item sk-dashed-wrapped\"><div class=\"sk-label-container\"><div class=\"sk-label sk-toggleable\"><input class=\"sk-toggleable__control sk-hidden--visually\" id=\"sk-estimator-id-1\" type=\"checkbox\" ><label for=\"sk-estimator-id-1\" class=\"sk-toggleable__label sk-toggleable__label-arrow\">Pipeline</label><div class=\"sk-toggleable__content\"><pre>Pipeline(steps=[(&#x27;encoder&#x27;,\n",
       "                 CountEncoder(cols=[&#x27;race&#x27;, &#x27;sex&#x27;, &#x27;marital_status&#x27;,\n",
       "                                    &#x27;rent_or_own&#x27;, &#x27;employment_status&#x27;,\n",
       "                                    &#x27;hhs_geo_region&#x27;, &#x27;census_msa&#x27;,\n",
       "                                    &#x27;employment_industry&#x27;,\n",
       "                                    &#x27;employment_occupation&#x27;],\n",
       "                              combine_min_nan_groups=True)),\n",
       "                (&#x27;rfc&#x27;, RandomForestClassifier())])</pre></div></div></div><div class=\"sk-serial\"><div class=\"sk-item\"><div class=\"sk-estimator sk-toggleable\"><input class=\"sk-toggleable__control sk-hidden--visually\" id=\"sk-estimator-id-2\" type=\"checkbox\" ><label for=\"sk-estimator-id-2\" class=\"sk-toggleable__label sk-toggleable__label-arrow\">CountEncoder</label><div class=\"sk-toggleable__content\"><pre>CountEncoder(cols=[&#x27;race&#x27;, &#x27;sex&#x27;, &#x27;marital_status&#x27;, &#x27;rent_or_own&#x27;,\n",
       "                   &#x27;employment_status&#x27;, &#x27;hhs_geo_region&#x27;, &#x27;census_msa&#x27;,\n",
       "                   &#x27;employment_industry&#x27;, &#x27;employment_occupation&#x27;],\n",
       "             combine_min_nan_groups=True)</pre></div></div></div><div class=\"sk-item\"><div class=\"sk-estimator sk-toggleable\"><input class=\"sk-toggleable__control sk-hidden--visually\" id=\"sk-estimator-id-3\" type=\"checkbox\" ><label for=\"sk-estimator-id-3\" class=\"sk-toggleable__label sk-toggleable__label-arrow\">RandomForestClassifier</label><div class=\"sk-toggleable__content\"><pre>RandomForestClassifier()</pre></div></div></div></div></div></div></div>"
      ],
      "text/plain": [
       "Pipeline(steps=[('encoder',\n",
       "                 CountEncoder(cols=['race', 'sex', 'marital_status',\n",
       "                                    'rent_or_own', 'employment_status',\n",
       "                                    'hhs_geo_region', 'census_msa',\n",
       "                                    'employment_industry',\n",
       "                                    'employment_occupation'],\n",
       "                              combine_min_nan_groups=True)),\n",
       "                ('rfc', RandomForestClassifier())])"
      ]
     },
     "execution_count": 18,
     "metadata": {},
     "output_type": "execute_result"
    }
   ],
   "source": [
    "rfc_1_pipeline = Pipeline(steps=[\n",
    "    ('encoder', CountEncoder()),\n",
    "    ('rfc', RandomForestClassifier())\n",
    "])\n",
    "\n",
    "\n",
    "rfc_1_pipeline.fit(X, y1)"
   ]
  },
  {
   "cell_type": "code",
   "execution_count": 19,
   "id": "b44c4d0d-ae47-4c67-bc69-ad477f717141",
   "metadata": {},
   "outputs": [],
   "source": [
    "from sklearn.metrics import (\n",
    "    roc_auc_score,\n",
    "    recall_score,\n",
    "    f1_score,\n",
    "    matthews_corrcoef\n",
    ")\n",
    "\n",
    "from sklearn.model_selection import cross_val_score"
   ]
  },
  {
   "cell_type": "code",
   "execution_count": 20,
   "id": "6f84fbb4-13f8-433c-bf76-91540dfb7f47",
   "metadata": {},
   "outputs": [
    {
     "name": "stderr",
     "output_type": "stream",
     "text": [
      "[Parallel(n_jobs=-1)]: Using backend LokyBackend with 8 concurrent workers.\n",
      "[Parallel(n_jobs=-1)]: Done   6 out of  10 | elapsed:    7.4s remaining:    4.9s\n",
      "[Parallel(n_jobs=-1)]: Done  10 out of  10 | elapsed:   10.1s finished\n"
     ]
    }
   ],
   "source": [
    "cv_rfc_1_scores_from_pipe = cross_val_score(rfc_1_pipeline, X, y1, scoring='roc_auc', cv=10, n_jobs=-1, verbose=1)"
   ]
  },
  {
   "cell_type": "code",
   "execution_count": 21,
   "id": "cea6ac4c-ae3a-438c-86fc-1bb855dd896a",
   "metadata": {},
   "outputs": [
    {
     "data": {
      "text/plain": [
       "85.9693887869821"
      ]
     },
     "execution_count": 21,
     "metadata": {},
     "output_type": "execute_result"
    }
   ],
   "source": [
    "np.mean(cv_rfc_1_scores_from_pipe)*100"
   ]
  },
  {
   "cell_type": "code",
   "execution_count": 22,
   "id": "66c9d147-4d9d-492c-91c2-a00bbb66916d",
   "metadata": {},
   "outputs": [],
   "source": [
    "from sklearn.model_selection import GridSearchCV, RandomizedSearchCV\n",
    "\n",
    "from scipy.stats import uniform, randint"
   ]
  },
  {
   "cell_type": "code",
   "execution_count": 23,
   "id": "d60fc9c8-e8eb-4b33-bac3-7b0d3745e9d2",
   "metadata": {},
   "outputs": [
    {
     "name": "stdout",
     "output_type": "stream",
     "text": [
      "Fitting 10 folds for each of 60 candidates, totalling 600 fits\n",
      "Fitting 10 folds for each of 60 candidates, totalling 600 fits\n"
     ]
    }
   ],
   "source": [
    "distr_params = {\n",
    "    'ml__max_features': randint(5, 20),\n",
    "    'ml__min_samples_leaf':randint(2, 6),\n",
    "    'ml__max_depth': randint(5, 20)\n",
    "}\n",
    "\n",
    "ml_pipeline = Pipeline(steps=[\n",
    "    ('encoder', CountEncoder()),\n",
    "    ('ml', RandomForestClassifier())\n",
    "])\n",
    "\n",
    "\n",
    "randomized_rfc_1 = RandomizedSearchCV(ml_pipeline, distr_params,cv=10,n_iter=60, scoring='roc_auc', n_jobs=-1, verbose=1, random_state=21,).fit(X,y1)\n",
    "randomized_rfc_2 = RandomizedSearchCV(ml_pipeline, distr_params,cv=10,n_iter=60, scoring='roc_auc', n_jobs=-1, verbose=1, random_state=21).fit(X,y2)"
   ]
  },
  {
   "cell_type": "code",
   "execution_count": 30,
   "id": "ecc37dba-462b-4654-b719-bb33d3573169",
   "metadata": {},
   "outputs": [
    {
     "data": {
      "text/plain": [
       "0.8661883045144638"
      ]
     },
     "execution_count": 30,
     "metadata": {},
     "output_type": "execute_result"
    }
   ],
   "source": [
    "randomized_rfc_1.best_score_"
   ]
  },
  {
   "cell_type": "code",
   "execution_count": 27,
   "id": "591fdc8c-bce9-4a37-8256-d9b4b6e70586",
   "metadata": {},
   "outputs": [
    {
     "data": {
      "text/html": [
       "<style>#sk-container-id-2 {color: black;background-color: white;}#sk-container-id-2 pre{padding: 0;}#sk-container-id-2 div.sk-toggleable {background-color: white;}#sk-container-id-2 label.sk-toggleable__label {cursor: pointer;display: block;width: 100%;margin-bottom: 0;padding: 0.3em;box-sizing: border-box;text-align: center;}#sk-container-id-2 label.sk-toggleable__label-arrow:before {content: \"▸\";float: left;margin-right: 0.25em;color: #696969;}#sk-container-id-2 label.sk-toggleable__label-arrow:hover:before {color: black;}#sk-container-id-2 div.sk-estimator:hover label.sk-toggleable__label-arrow:before {color: black;}#sk-container-id-2 div.sk-toggleable__content {max-height: 0;max-width: 0;overflow: hidden;text-align: left;background-color: #f0f8ff;}#sk-container-id-2 div.sk-toggleable__content pre {margin: 0.2em;color: black;border-radius: 0.25em;background-color: #f0f8ff;}#sk-container-id-2 input.sk-toggleable__control:checked~div.sk-toggleable__content {max-height: 200px;max-width: 100%;overflow: auto;}#sk-container-id-2 input.sk-toggleable__control:checked~label.sk-toggleable__label-arrow:before {content: \"▾\";}#sk-container-id-2 div.sk-estimator input.sk-toggleable__control:checked~label.sk-toggleable__label {background-color: #d4ebff;}#sk-container-id-2 div.sk-label input.sk-toggleable__control:checked~label.sk-toggleable__label {background-color: #d4ebff;}#sk-container-id-2 input.sk-hidden--visually {border: 0;clip: rect(1px 1px 1px 1px);clip: rect(1px, 1px, 1px, 1px);height: 1px;margin: -1px;overflow: hidden;padding: 0;position: absolute;width: 1px;}#sk-container-id-2 div.sk-estimator {font-family: monospace;background-color: #f0f8ff;border: 1px dotted black;border-radius: 0.25em;box-sizing: border-box;margin-bottom: 0.5em;}#sk-container-id-2 div.sk-estimator:hover {background-color: #d4ebff;}#sk-container-id-2 div.sk-parallel-item::after {content: \"\";width: 100%;border-bottom: 1px solid gray;flex-grow: 1;}#sk-container-id-2 div.sk-label:hover label.sk-toggleable__label {background-color: #d4ebff;}#sk-container-id-2 div.sk-serial::before {content: \"\";position: absolute;border-left: 1px solid gray;box-sizing: border-box;top: 0;bottom: 0;left: 50%;z-index: 0;}#sk-container-id-2 div.sk-serial {display: flex;flex-direction: column;align-items: center;background-color: white;padding-right: 0.2em;padding-left: 0.2em;position: relative;}#sk-container-id-2 div.sk-item {position: relative;z-index: 1;}#sk-container-id-2 div.sk-parallel {display: flex;align-items: stretch;justify-content: center;background-color: white;position: relative;}#sk-container-id-2 div.sk-item::before, #sk-container-id-2 div.sk-parallel-item::before {content: \"\";position: absolute;border-left: 1px solid gray;box-sizing: border-box;top: 0;bottom: 0;left: 50%;z-index: -1;}#sk-container-id-2 div.sk-parallel-item {display: flex;flex-direction: column;z-index: 1;position: relative;background-color: white;}#sk-container-id-2 div.sk-parallel-item:first-child::after {align-self: flex-end;width: 50%;}#sk-container-id-2 div.sk-parallel-item:last-child::after {align-self: flex-start;width: 50%;}#sk-container-id-2 div.sk-parallel-item:only-child::after {width: 0;}#sk-container-id-2 div.sk-dashed-wrapped {border: 1px dashed gray;margin: 0 0.4em 0.5em 0.4em;box-sizing: border-box;padding-bottom: 0.4em;background-color: white;}#sk-container-id-2 div.sk-label label {font-family: monospace;font-weight: bold;display: inline-block;line-height: 1.2em;}#sk-container-id-2 div.sk-label-container {text-align: center;}#sk-container-id-2 div.sk-container {/* jupyter's `normalize.less` sets `[hidden] { display: none; }` but bootstrap.min.css set `[hidden] { display: none !important; }` so we also need the `!important` here to be able to override the default hidden behavior on the sphinx rendered scikit-learn.org. See: https://github.com/scikit-learn/scikit-learn/issues/21755 */display: inline-block !important;position: relative;}#sk-container-id-2 div.sk-text-repr-fallback {display: none;}</style><div id=\"sk-container-id-2\" class=\"sk-top-container\"><div class=\"sk-text-repr-fallback\"><pre>Pipeline(steps=[(&#x27;encoder&#x27;,\n",
       "                 CountEncoder(cols=[&#x27;race&#x27;, &#x27;sex&#x27;, &#x27;marital_status&#x27;,\n",
       "                                    &#x27;rent_or_own&#x27;, &#x27;employment_status&#x27;,\n",
       "                                    &#x27;hhs_geo_region&#x27;, &#x27;census_msa&#x27;,\n",
       "                                    &#x27;employment_industry&#x27;,\n",
       "                                    &#x27;employment_occupation&#x27;],\n",
       "                              combine_min_nan_groups=True)),\n",
       "                (&#x27;ml&#x27;,\n",
       "                 RandomForestClassifier(max_depth=12, max_features=10,\n",
       "                                        min_samples_leaf=5))])</pre><b>In a Jupyter environment, please rerun this cell to show the HTML representation or trust the notebook. <br />On GitHub, the HTML representation is unable to render, please try loading this page with nbviewer.org.</b></div><div class=\"sk-container\" hidden><div class=\"sk-item sk-dashed-wrapped\"><div class=\"sk-label-container\"><div class=\"sk-label sk-toggleable\"><input class=\"sk-toggleable__control sk-hidden--visually\" id=\"sk-estimator-id-4\" type=\"checkbox\" ><label for=\"sk-estimator-id-4\" class=\"sk-toggleable__label sk-toggleable__label-arrow\">Pipeline</label><div class=\"sk-toggleable__content\"><pre>Pipeline(steps=[(&#x27;encoder&#x27;,\n",
       "                 CountEncoder(cols=[&#x27;race&#x27;, &#x27;sex&#x27;, &#x27;marital_status&#x27;,\n",
       "                                    &#x27;rent_or_own&#x27;, &#x27;employment_status&#x27;,\n",
       "                                    &#x27;hhs_geo_region&#x27;, &#x27;census_msa&#x27;,\n",
       "                                    &#x27;employment_industry&#x27;,\n",
       "                                    &#x27;employment_occupation&#x27;],\n",
       "                              combine_min_nan_groups=True)),\n",
       "                (&#x27;ml&#x27;,\n",
       "                 RandomForestClassifier(max_depth=12, max_features=10,\n",
       "                                        min_samples_leaf=5))])</pre></div></div></div><div class=\"sk-serial\"><div class=\"sk-item\"><div class=\"sk-estimator sk-toggleable\"><input class=\"sk-toggleable__control sk-hidden--visually\" id=\"sk-estimator-id-5\" type=\"checkbox\" ><label for=\"sk-estimator-id-5\" class=\"sk-toggleable__label sk-toggleable__label-arrow\">CountEncoder</label><div class=\"sk-toggleable__content\"><pre>CountEncoder(cols=[&#x27;race&#x27;, &#x27;sex&#x27;, &#x27;marital_status&#x27;, &#x27;rent_or_own&#x27;,\n",
       "                   &#x27;employment_status&#x27;, &#x27;hhs_geo_region&#x27;, &#x27;census_msa&#x27;,\n",
       "                   &#x27;employment_industry&#x27;, &#x27;employment_occupation&#x27;],\n",
       "             combine_min_nan_groups=True)</pre></div></div></div><div class=\"sk-item\"><div class=\"sk-estimator sk-toggleable\"><input class=\"sk-toggleable__control sk-hidden--visually\" id=\"sk-estimator-id-6\" type=\"checkbox\" ><label for=\"sk-estimator-id-6\" class=\"sk-toggleable__label sk-toggleable__label-arrow\">RandomForestClassifier</label><div class=\"sk-toggleable__content\"><pre>RandomForestClassifier(max_depth=12, max_features=10, min_samples_leaf=5)</pre></div></div></div></div></div></div></div>"
      ],
      "text/plain": [
       "Pipeline(steps=[('encoder',\n",
       "                 CountEncoder(cols=['race', 'sex', 'marital_status',\n",
       "                                    'rent_or_own', 'employment_status',\n",
       "                                    'hhs_geo_region', 'census_msa',\n",
       "                                    'employment_industry',\n",
       "                                    'employment_occupation'],\n",
       "                              combine_min_nan_groups=True)),\n",
       "                ('ml',\n",
       "                 RandomForestClassifier(max_depth=12, max_features=10,\n",
       "                                        min_samples_leaf=5))])"
      ]
     },
     "execution_count": 27,
     "metadata": {},
     "output_type": "execute_result"
    }
   ],
   "source": [
    "best_rfc_1 = randomized_rfc_1.best_estimator_\n",
    "best_rfc_1"
   ]
  },
  {
   "cell_type": "code",
   "execution_count": 31,
   "id": "2e0078f7-13e9-4d4f-b00a-7f563b59c564",
   "metadata": {},
   "outputs": [
    {
     "data": {
      "text/plain": [
       "<bound method Pipeline.get_params of Pipeline(steps=[('encoder',\n",
       "                 CountEncoder(cols=['race', 'sex', 'marital_status',\n",
       "                                    'rent_or_own', 'employment_status',\n",
       "                                    'hhs_geo_region', 'census_msa',\n",
       "                                    'employment_industry',\n",
       "                                    'employment_occupation'],\n",
       "                              combine_min_nan_groups=True)),\n",
       "                ('ml',\n",
       "                 RandomForestClassifier(max_depth=11, max_features=9,\n",
       "                                        min_samples_leaf=4))])>"
      ]
     },
     "execution_count": 31,
     "metadata": {},
     "output_type": "execute_result"
    }
   ],
   "source": [
    "best_rfc_2 = randomized_rfc_2.best_estimator_\n",
    "best_rfc_2.get_params"
   ]
  },
  {
   "cell_type": "code",
   "execution_count": 32,
   "id": "10bd35f7-4f06-41da-9099-d99cb7a1103a",
   "metadata": {},
   "outputs": [],
   "source": [
    "y_test1 = best_rfc_1.predict_proba(X_test)[:, 1]\n",
    "y_test2 = best_rfc_2.predict_proba(X_test)[:, 1]"
   ]
  },
  {
   "cell_type": "code",
   "execution_count": 35,
   "id": "1cbd64e5-f98e-4f62-b0f9-ac4ce59284b9",
   "metadata": {},
   "outputs": [],
   "source": [
    "y_test_df = pd.DataFrame(y_test1, columns =['xyz_vaccine'], dtype = float) \n",
    "arr = np.arange(26707, 53415)\n",
    "y_test_df['respondent_id'] = arr.tolist()\n",
    "y_test_df['seasonal_vaccine'] = y_test2.tolist()\n",
    "y_test_df['seasonal_vaccine'] = y_test_df['seasonal_vaccine'].astype(float)\n",
    "y_test_df = y_test_df[['respondent_id','xyz_vaccine','seasonal_vaccine']]\n",
    "y_test_df.to_csv(\"Data_Hack_Baibhav_Malviya.csv\", index=False)"
   ]
  },
  {
   "cell_type": "code",
   "execution_count": 34,
   "id": "774b3cd0-db17-49bd-adcf-01e23dfba7f4",
   "metadata": {},
   "outputs": [
    {
     "data": {
      "text/html": [
       "<div>\n",
       "<style scoped>\n",
       "    .dataframe tbody tr th:only-of-type {\n",
       "        vertical-align: middle;\n",
       "    }\n",
       "\n",
       "    .dataframe tbody tr th {\n",
       "        vertical-align: top;\n",
       "    }\n",
       "\n",
       "    .dataframe thead th {\n",
       "        text-align: right;\n",
       "    }\n",
       "</style>\n",
       "<table border=\"1\" class=\"dataframe\">\n",
       "  <thead>\n",
       "    <tr style=\"text-align: right;\">\n",
       "      <th></th>\n",
       "      <th>respondent_id</th>\n",
       "      <th>xyz_vaccine</th>\n",
       "      <th>seasonal_vaccine</th>\n",
       "    </tr>\n",
       "  </thead>\n",
       "  <tbody>\n",
       "    <tr>\n",
       "      <th>0</th>\n",
       "      <td>26707</td>\n",
       "      <td>0.192122</td>\n",
       "      <td>0.168032</td>\n",
       "    </tr>\n",
       "    <tr>\n",
       "      <th>1</th>\n",
       "      <td>26708</td>\n",
       "      <td>0.026998</td>\n",
       "      <td>0.053303</td>\n",
       "    </tr>\n",
       "    <tr>\n",
       "      <th>2</th>\n",
       "      <td>26709</td>\n",
       "      <td>0.211099</td>\n",
       "      <td>0.718724</td>\n",
       "    </tr>\n",
       "    <tr>\n",
       "      <th>3</th>\n",
       "      <td>26710</td>\n",
       "      <td>0.639603</td>\n",
       "      <td>0.899835</td>\n",
       "    </tr>\n",
       "    <tr>\n",
       "      <th>4</th>\n",
       "      <td>26711</td>\n",
       "      <td>0.334273</td>\n",
       "      <td>0.492342</td>\n",
       "    </tr>\n",
       "    <tr>\n",
       "      <th>...</th>\n",
       "      <td>...</td>\n",
       "      <td>...</td>\n",
       "      <td>...</td>\n",
       "    </tr>\n",
       "    <tr>\n",
       "      <th>26703</th>\n",
       "      <td>53410</td>\n",
       "      <td>0.317901</td>\n",
       "      <td>0.473978</td>\n",
       "    </tr>\n",
       "    <tr>\n",
       "      <th>26704</th>\n",
       "      <td>53411</td>\n",
       "      <td>0.101284</td>\n",
       "      <td>0.332443</td>\n",
       "    </tr>\n",
       "    <tr>\n",
       "      <th>26705</th>\n",
       "      <td>53412</td>\n",
       "      <td>0.181131</td>\n",
       "      <td>0.257602</td>\n",
       "    </tr>\n",
       "    <tr>\n",
       "      <th>26706</th>\n",
       "      <td>53413</td>\n",
       "      <td>0.039712</td>\n",
       "      <td>0.404748</td>\n",
       "    </tr>\n",
       "    <tr>\n",
       "      <th>26707</th>\n",
       "      <td>53414</td>\n",
       "      <td>0.631493</td>\n",
       "      <td>0.665572</td>\n",
       "    </tr>\n",
       "  </tbody>\n",
       "</table>\n",
       "<p>26708 rows × 3 columns</p>\n",
       "</div>"
      ],
      "text/plain": [
       "       respondent_id  xyz_vaccine  seasonal_vaccine\n",
       "0              26707     0.192122          0.168032\n",
       "1              26708     0.026998          0.053303\n",
       "2              26709     0.211099          0.718724\n",
       "3              26710     0.639603          0.899835\n",
       "4              26711     0.334273          0.492342\n",
       "...              ...          ...               ...\n",
       "26703          53410     0.317901          0.473978\n",
       "26704          53411     0.101284          0.332443\n",
       "26705          53412     0.181131          0.257602\n",
       "26706          53413     0.039712          0.404748\n",
       "26707          53414     0.631493          0.665572\n",
       "\n",
       "[26708 rows x 3 columns]"
      ]
     },
     "execution_count": 34,
     "metadata": {},
     "output_type": "execute_result"
    }
   ],
   "source": [
    "y_test_df"
   ]
  },
  {
   "cell_type": "code",
   "execution_count": null,
   "id": "a79dd27d-5c4b-4bea-b025-f3aff483d865",
   "metadata": {},
   "outputs": [],
   "source": []
  }
 ],
 "metadata": {
  "kernelspec": {
   "display_name": "Python 3 (ipykernel)",
   "language": "python",
   "name": "python3"
  },
  "language_info": {
   "codemirror_mode": {
    "name": "ipython",
    "version": 3
   },
   "file_extension": ".py",
   "mimetype": "text/x-python",
   "name": "python",
   "nbconvert_exporter": "python",
   "pygments_lexer": "ipython3",
   "version": "3.11.7"
  }
 },
 "nbformat": 4,
 "nbformat_minor": 5
}
